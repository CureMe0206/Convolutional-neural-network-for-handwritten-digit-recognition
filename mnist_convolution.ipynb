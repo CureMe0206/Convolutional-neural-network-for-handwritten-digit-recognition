{
 "cells": [
  {
   "cell_type": "code",
   "execution_count": 1,
   "metadata": {
    "collapsed": true
   },
   "outputs": [],
   "source": [
    "import tensorflow as tf\n",
    "from tensorflow.examples.tutorials.mnist import input_data\n",
    "import matplotlib.pyplot as plt\n",
    "import numpy as np"
   ]
  },
  {
   "cell_type": "code",
   "execution_count": 2,
   "metadata": {},
   "outputs": [
    {
     "name": "stdout",
     "output_type": "stream",
     "text": [
      "Extracting data/train-images-idx3-ubyte.gz\n",
      "Extracting data/train-labels-idx1-ubyte.gz\n",
      "Extracting data/t10k-images-idx3-ubyte.gz\n",
      "Extracting data/t10k-labels-idx1-ubyte.gz\n"
     ]
    }
   ],
   "source": [
    "data = input_data.read_data_sets('data/',one_hot=True)"
   ]
  },
  {
   "cell_type": "code",
   "execution_count": 3,
   "metadata": {
    "collapsed": true
   },
   "outputs": [],
   "source": [
    "x = tf.placeholder(dtype=tf.float32,shape=[None,784],name = \"input_data\")\n",
    "y = tf.placeholder(dtype=tf.float32,shape=[None,10],name = \"label_data\")"
   ]
  },
  {
   "cell_type": "code",
   "execution_count": 4,
   "metadata": {
    "collapsed": true
   },
   "outputs": [],
   "source": [
    "para = {\n",
    "    \"filter1\":tf.Variable(initial_value=tf.random_normal([3,3,1,64],mean = 0.0,stddev=0.1),name = \"filter1\"),\n",
    "    \"bias1\":tf.Variable(initial_value=tf.zeros([64]),name = \"bias1\"),\n",
    "    \"filter2\":tf.Variable(initial_value=tf.random_normal([3,3,64,128],mean = 0.0,stddev=0.1),name = \"filter2\"),\n",
    "    \"bias2\":tf.Variable(initial_value=tf.zeros([128]),name = \"bias2\"),\n",
    "    \"W1\":tf.Variable(initial_value=tf.random_normal([7*7*128,256],mean= 0.0,stddev=0.1),name = \"W1\"),\n",
    "    \"B1\":tf.Variable(initial_value=tf.zeros([256]),name= \"B1\"),\n",
    "    \"W2\":tf.Variable(initial_value=tf.random_normal([256,128],mean=0.0,stddev=0.1),name = \"W2\"),\n",
    "    \"B2\":tf.Variable(initial_value=tf.zeros([128]),name = \"B2\"),\n",
    "    \"W3\":tf.Variable(initial_value=tf.random_normal([128,10],mean=0.0,stddev=0.1),name=\"W3\"),\n",
    "    \"B3\":tf.Variable(initial_value=tf.zeros([10]),name = \"B3\")\n",
    "}"
   ]
  },
  {
   "cell_type": "code",
   "execution_count": 5,
   "metadata": {},
   "outputs": [],
   "source": [
    "n_input = tf.reshape(x,[-1,28,28,1])\n",
    "con_1 = tf.nn.conv2d(n_input,para[\"filter1\"],strides=[1,1,1,1],padding=\"SAME\")\n",
    "con_1_out = tf.nn.relu(tf.nn.bias_add(con_1,para[\"bias1\"]))\n",
    "con_1_pool = tf.nn.max_pool(con_1_out,ksize=[1,2,2,1],strides=[1,2,2,1],padding=\"SAME\")\n",
    "con_2 = tf.nn.conv2d(con_1_pool,para[\"filter2\"],strides=[1,1,1,1],padding=\"SAME\")\n",
    "con_2_out = tf.nn.relu(tf.nn.bias_add(con_2,para[\"bias2\"]))\n",
    "con_2_pool = tf.nn.max_pool(con_2_out,ksize=[1,2,2,1],strides=[1,2,2,1],padding=\"SAME\")\n",
    "con_out = tf.reshape(con_2_pool,[-1,7*7*128])\n",
    "lay_1_out =tf.nn.sigmoid(tf.matmul(con_out,para[\"W1\"])+para[\"B1\"])\n",
    "lay_2_out = tf.nn.sigmoid(tf.matmul(lay_1_out,para[\"W2\"])+para[\"B2\"])\n",
    "pred = tf.nn.softmax(tf.matmul(lay_2_out,para[\"W3\"])+para[\"B3\"])"
   ]
  },
  {
   "cell_type": "code",
   "execution_count": 6,
   "metadata": {},
   "outputs": [
    {
     "name": "stdout",
     "output_type": "stream",
     "text": [
      "WARNING:tensorflow:From <ipython-input-6-fad716e9dfe9>:3: arg_max (from tensorflow.python.ops.gen_math_ops) is deprecated and will be removed in a future version.\n",
      "Instructions for updating:\n",
      "Use `argmax` instead\n"
     ]
    }
   ],
   "source": [
    "cost = tf.reduce_mean(tf.nn.softmax_cross_entropy_with_logits(labels=y,logits=pred))\n",
    "opti = tf.train.GradientDescentOptimizer(0.1).minimize(cost)\n",
    "equal = tf.equal(tf.arg_max(y,1),tf.arg_max(pred,1))\n",
    "accuracy = tf.reduce_mean(tf.cast(equal,dtype=tf.float32))"
   ]
  },
  {
   "cell_type": "code",
   "execution_count": 7,
   "metadata": {},
   "outputs": [
    {
     "name": "stdout",
     "output_type": "stream",
     "text": [
      "inter:200 loss:2.305156946182251 accu:0.03999999910593033\n",
      "inter:400 loss:2.2072646617889404 accu:0.36000001430511475\n",
      "inter:600 loss:1.9711154699325562 accu:0.5600000023841858\n",
      "inter:800 loss:1.826384425163269 accu:0.6800000071525574\n",
      "inter:1000 loss:1.91221022605896 accu:0.5600000023841858\n",
      "inter:1200 loss:1.9339816570281982 accu:0.5199999809265137\n",
      "inter:1400 loss:1.861399531364441 accu:0.6399999856948853\n",
      "inter:1600 loss:1.71478271484375 accu:0.800000011920929\n",
      "inter:1800 loss:1.7845284938812256 accu:0.7599999904632568\n",
      "inter:2000 loss:1.6840990781784058 accu:0.800000011920929\n",
      "test_accuracy:0.7519999742507935\n",
      "inter:2400 loss:1.779840350151062 accu:0.6800000071525574\n",
      "inter:2600 loss:1.6050862073898315 accu:0.8799999952316284\n",
      "inter:2800 loss:1.7172430753707886 accu:0.7599999904632568\n",
      "inter:3000 loss:1.658205509185791 accu:0.8399999737739563\n",
      "inter:3200 loss:1.6796863079071045 accu:0.800000011920929\n",
      "inter:3400 loss:1.7802870273590088 accu:0.7200000286102295\n",
      "inter:3600 loss:1.7116918563842773 accu:0.800000011920929\n",
      "inter:3800 loss:1.6164424419403076 accu:0.8799999952316284\n",
      "inter:4000 loss:1.709940791130066 accu:0.7599999904632568\n",
      "inter:4200 loss:1.5982683897018433 accu:0.8799999952316284\n",
      "test_accuracy:0.7680000066757202\n",
      "inter:4600 loss:1.717646598815918 accu:0.7200000286102295\n",
      "inter:4800 loss:1.666330099105835 accu:0.8399999737739563\n",
      "inter:5000 loss:1.6608901023864746 accu:0.8399999737739563\n",
      "inter:5200 loss:1.559096097946167 accu:0.9200000166893005\n",
      "inter:5400 loss:1.5650854110717773 accu:0.9200000166893005\n",
      "inter:5600 loss:1.7179337739944458 accu:0.7599999904632568\n",
      "inter:5800 loss:1.5638816356658936 accu:0.9200000166893005\n",
      "inter:6000 loss:1.665592908859253 accu:0.800000011920929\n",
      "inter:6200 loss:1.6082950830459595 accu:0.8399999737739563\n",
      "inter:6400 loss:1.6654974222183228 accu:0.800000011920929\n",
      "test_accuracy:0.8759999871253967\n",
      "inter:6800 loss:1.6271920204162598 accu:0.8399999737739563\n",
      "inter:7000 loss:1.5676885843276978 accu:0.9200000166893005\n",
      "inter:7200 loss:1.5580989122390747 accu:0.9200000166893005\n",
      "inter:7400 loss:1.6600358486175537 accu:0.8399999737739563\n",
      "inter:7600 loss:1.519464373588562 accu:0.9599999785423279\n",
      "inter:7800 loss:1.6303859949111938 accu:0.8399999737739563\n",
      "inter:8000 loss:1.5824215412139893 accu:0.9200000166893005\n",
      "inter:8200 loss:1.651425838470459 accu:0.800000011920929\n",
      "inter:8400 loss:1.5817368030548096 accu:0.9200000166893005\n",
      "inter:8600 loss:1.5990573167800903 accu:0.8799999952316284\n",
      "test_accuracy:0.8740000128746033\n",
      "inter:9000 loss:1.5643038749694824 accu:0.9200000166893005\n",
      "inter:9200 loss:1.582044243812561 accu:0.8799999952316284\n",
      "inter:9400 loss:1.5002250671386719 accu:1.0\n",
      "inter:9600 loss:1.5424394607543945 accu:0.9200000166893005\n",
      "inter:9800 loss:1.5000274181365967 accu:1.0\n",
      "inter:10000 loss:1.495694637298584 accu:1.0\n",
      "inter:10200 loss:1.4731463193893433 accu:1.0\n",
      "inter:10400 loss:1.4761321544647217 accu:1.0\n",
      "inter:10600 loss:1.5510284900665283 accu:0.9200000166893005\n",
      "inter:10800 loss:1.5043342113494873 accu:1.0\n",
      "test_accuracy:0.9800000190734863\n",
      "inter:11200 loss:1.4915568828582764 accu:1.0\n",
      "inter:11400 loss:1.4719771146774292 accu:1.0\n",
      "inter:11600 loss:1.4718507528305054 accu:1.0\n",
      "inter:11800 loss:1.5246063470840454 accu:0.9599999785423279\n",
      "inter:12000 loss:1.5043450593948364 accu:0.9599999785423279\n",
      "inter:12200 loss:1.5267280340194702 accu:0.9200000166893005\n",
      "inter:12400 loss:1.506351351737976 accu:0.9599999785423279\n",
      "inter:12600 loss:1.48744797706604 accu:1.0\n",
      "inter:12800 loss:1.4644062519073486 accu:1.0\n",
      "inter:13000 loss:1.4766677618026733 accu:1.0\n",
      "test_accuracy:0.984000027179718\n",
      "inter:13400 loss:1.577946662902832 accu:0.8799999952316284\n",
      "inter:13600 loss:1.4829483032226562 accu:0.9599999785423279\n",
      "inter:13800 loss:1.4788031578063965 accu:1.0\n",
      "inter:14000 loss:1.4731533527374268 accu:1.0\n",
      "inter:14200 loss:1.474271535873413 accu:1.0\n",
      "inter:14400 loss:1.4660286903381348 accu:1.0\n",
      "inter:14600 loss:1.5102412700653076 accu:0.9200000166893005\n",
      "inter:14800 loss:1.5707359313964844 accu:0.8799999952316284\n",
      "inter:15000 loss:1.4804061651229858 accu:1.0\n",
      "inter:15200 loss:1.4658502340316772 accu:1.0\n",
      "test_accuracy:0.984000027179718\n",
      "inter:15600 loss:1.462410569190979 accu:1.0\n",
      "inter:15800 loss:1.4864904880523682 accu:1.0\n",
      "inter:16000 loss:1.468050241470337 accu:1.0\n",
      "inter:16200 loss:1.468508243560791 accu:1.0\n",
      "inter:16400 loss:1.480380654335022 accu:1.0\n",
      "inter:16600 loss:1.5023194551467896 accu:0.9599999785423279\n",
      "inter:16800 loss:1.5134527683258057 accu:0.9599999785423279\n",
      "inter:17000 loss:1.4639419317245483 accu:1.0\n",
      "inter:17200 loss:1.5073614120483398 accu:0.9599999785423279\n",
      "inter:17400 loss:1.466712474822998 accu:1.0\n",
      "test_accuracy:0.984000027179718\n",
      "inter:17800 loss:1.505203127861023 accu:0.9599999785423279\n",
      "inter:18000 loss:1.4653857946395874 accu:1.0\n",
      "inter:18200 loss:1.4624907970428467 accu:1.0\n",
      "inter:18400 loss:1.4794059991836548 accu:1.0\n",
      "inter:18600 loss:1.5246886014938354 accu:0.9200000166893005\n",
      "inter:18800 loss:1.4740501642227173 accu:1.0\n",
      "inter:19000 loss:1.4663033485412598 accu:1.0\n",
      "inter:19200 loss:1.481217384338379 accu:1.0\n",
      "inter:19400 loss:1.5111205577850342 accu:0.9599999785423279\n",
      "inter:19600 loss:1.4816272258758545 accu:1.0\n",
      "test_accuracy:0.9900000095367432\n",
      "inter:20000 loss:1.461741328239441 accu:1.0\n",
      "inter:20200 loss:1.4722585678100586 accu:1.0\n",
      "inter:20400 loss:1.4623011350631714 accu:1.0\n",
      "inter:20600 loss:1.4625729322433472 accu:1.0\n",
      "inter:20800 loss:1.4874709844589233 accu:1.0\n",
      "inter:21000 loss:1.5458401441574097 accu:0.9200000166893005\n",
      "inter:21200 loss:1.4631940126419067 accu:1.0\n",
      "inter:21400 loss:1.461698293685913 accu:1.0\n",
      "inter:21600 loss:1.4648100137710571 accu:1.0\n",
      "inter:21800 loss:1.5443307161331177 accu:0.9200000166893005\n",
      "test_accuracy:0.9779999852180481\n"
     ]
    }
   ],
   "source": [
    "init = tf.global_variables_initializer()\n",
    "saver = tf.train.Saver(max_to_keep=3)\n",
    "batch_size = 25\n",
    "epochs = 10\n",
    "num_inter = data.train.num_examples//batch_size\n",
    "gpu_options = tf.GPUOptions(per_process_gpu_memory_fraction=0.6)\n",
    "config=tf.ConfigProto(log_device_placement=True,allow_soft_placement=True,gpu_options=gpu_options)\n",
    "with tf.Session(config = config) as sess:\n",
    "    sess.run(init)\n",
    "    for epoch in range(epochs):\n",
    "        for inter in range(num_inter):\n",
    "            train_x,train_y = data.train.next_batch(batch_size)\n",
    "            _,loss,accu = sess.run([opti,cost,accuracy],feed_dict = {x:train_x,y:train_y})\n",
    "            if inter % 200 == 0 and inter != 0:\n",
    "                print(\"inter:{0} loss:{1} accu:{2}\".format(inter+epoch*num_inter,loss,accu))\n",
    "                saver.save(sess,\"mnist_save/mnist.ckpt-\",global_step = inter+epoch*num_inter)\n",
    "        test_accuracy = sess.run(accuracy,feed_dict={x:data.test.images[0:500],y:data.test.labels[0:500]})\n",
    "        print(\"test_accuracy:{}\".format(test_accuracy))"
   ]
  },
  {
   "cell_type": "code",
   "execution_count": 13,
   "metadata": {},
   "outputs": [
    {
     "name": "stdout",
     "output_type": "stream",
     "text": [
      "INFO:tensorflow:Restoring parameters from mnist_save/mnist.ckpt--21600\n"
     ]
    },
    {
     "data": {
      "image/png": "[encoded data removed]",
      "text/plain": [
       "<Figure size 288x288 with 1 Axes>"
      ]
     },
     "metadata": {},
     "output_type": "display_data"
    },
    {
     "name": "stdout",
     "output_type": "stream",
     "text": [
      "True:[7],predict:[7]\n"
     ]
    },
    {
     "data": {
      "image/png": "[encoded data removed]",
      "text/plain": [
       "<Figure size 288x288 with 1 Axes>"
      ]
     },
     "metadata": {},
     "output_type": "display_data"
    },
    {
     "name": "stdout",
     "output_type": "stream",
     "text": [
      "True:[2],predict:[2]\n"
     ]
    },
    {
     "data": {
      "image/png": "[encoded data removed]",
      "text/plain": [
       "<Figure size 288x288 with 1 Axes>"
      ]
     },
     "metadata": {},
     "output_type": "display_data"
    },
    {
     "name": "stdout",
     "output_type": "stream",
     "text": [
      "True:[1],predict:[1]\n"
     ]
    },
    {
     "data": {
      "image/png": "[encoded data removed]",
      "text/plain": [
       "<Figure size 288x288 with 1 Axes>"
      ]
     },
     "metadata": {},
     "output_type": "display_data"
    },
    {
     "name": "stdout",
     "output_type": "stream",
     "text": [
      "True:[0],predict:[0]\n"
     ]
    },
    {
     "data": {
      "image/png": "[encoded data removed]",
      "text/plain": [
       "<Figure size 288x288 with 1 Axes>"
      ]
     },
     "metadata": {},
     "output_type": "display_data"
    },
    {
     "name": "stdout",
     "output_type": "stream",
     "text": [
      "True:[4],predict:[4]\n"
     ]
    },
    {
     "data": {
      "image/png": "[encoded data removed]",
      "text/plain": [
       "<Figure size 288x288 with 1 Axes>"
      ]
     },
     "metadata": {},
     "output_type": "display_data"
    },
    {
     "name": "stdout",
     "output_type": "stream",
     "text": [
      "True:[1],predict:[1]\n"
     ]
    },
    {
     "data": {
      "image/png": "[encoded data removed]",
      "text/plain": [
       "<Figure size 288x288 with 1 Axes>"
      ]
     },
     "metadata": {},
     "output_type": "display_data"
    },
    {
     "name": "stdout",
     "output_type": "stream",
     "text": [
      "True:[4],predict:[4]\n"
     ]
    },
    {
     "data": {
      "image/png": "[encoded data removed]",
      "text/plain": [
       "<Figure size 288x288 with 1 Axes>"
      ]
     },
     "metadata": {},
     "output_type": "display_data"
    },
    {
     "name": "stdout",
     "output_type": "stream",
     "text": [
      "True:[9],predict:[9]\n"
     ]
    },
    {
     "data": {
      "image/png": "[encoded data removed]",
      "text/plain": [
       "<Figure size 288x288 with 1 Axes>"
      ]
     },
     "metadata": {},
     "output_type": "display_data"
    },
    {
     "name": "stdout",
     "output_type": "stream",
     "text": [
      "True:[5],predict:[5]\n"
     ]
    },
    {
     "data": {
      "image/png": "[encoded data removed]",
      "text/plain": [
       "<Figure size 288x288 with 1 Axes>"
      ]
     },
     "metadata": {},
     "output_type": "display_data"
    },
    {
     "name": "stdout",
     "output_type": "stream",
     "text": [
      "True:[9],predict:[9]\n"
     ]
    }
   ],
   "source": [
    "with tf.Session() as sess_new:\n",
    "    sess_new.run(init)\n",
    "    saver.restore(sess_new,\"mnist_save/mnist.ckpt--21600\")\n",
    "    for i in range(10):\n",
    "        image = data.test.images[i]\n",
    "        label = data.test.labels[i]\n",
    "        label = np.reshape(label,[1,10])\n",
    "        image_show = np.reshape(image,[28,28])\n",
    "        plt.matshow(image_show,cmap = plt.get_cmap(\"gray\"))\n",
    "        plt.show()\n",
    "        image_test = np.reshape(image,[1,784])\n",
    "        predict = sess_new.run(pred,feed_dict = {x:image_test})\n",
    "        P = tf.arg_max(predict,1)\n",
    "        L = tf.arg_max(label,1)\n",
    "        print(\"True:{0},predict:{1}\".format(L.eval(),P.eval()))"
   ]
  },
  {
   "cell_type": "code",
   "execution_count": null,
   "metadata": {
    "collapsed": true
   },
   "outputs": [],
   "source": []
  }
 ],
 "metadata": {
  "kernelspec": {
   "display_name": "Python 3",
   "language": "python",
   "name": "python3"
  },
  "language_info": {
   "codemirror_mode": {
    "name": "ipython",
    "version": 3
   },
   "file_extension": ".py",
   "mimetype": "text/x-python",
   "name": "python",
   "nbconvert_exporter": "python",
   "pygments_lexer": "ipython3",
   "version": "3.6.6"
  }
 },
 "nbformat": 4,
 "nbformat_minor": 2
}
